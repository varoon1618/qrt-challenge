{
 "cells": [
  {
   "cell_type": "code",
   "execution_count": 11,
   "id": "527de634-5be5-44ce-b7a0-11d5bbe0eeb3",
   "metadata": {},
   "outputs": [],
   "source": [
    "import numpy as np\n",
    "import pandas as pd\n",
    "\n",
    "import matplotlib.pyplot as plt\n",
    "from sklearn.tree import plot_tree\n",
    "from sklearn.model_selection import train_test_split\n",
    "from sksurv.ensemble import RandomSurvivalForest\n",
    "from sksurv.linear_model import CoxPHSurvivalAnalysis\n",
    "from sksurv.metrics import concordance_index_censored , concordance_index_ipcw\n",
    "from sklearn.impute import SimpleImputer\n",
    "from sksurv.util import Surv"
   ]
  },
  {
   "cell_type": "code",
   "execution_count": 12,
   "id": "6eeafb24-9d27-4e55-86e2-6ee0388edc00",
   "metadata": {},
   "outputs": [],
   "source": [
    "#clinical data\n",
    "df = pd.read_csv(\".\\X_train\\clinical_train.csv\")\n",
    "df.head()\n",
    "\n",
    "gene_df= pd.read_csv('.\\X_train\\molecular_train.csv')\n",
    "#gene_df.head()"
   ]
  },
  {
   "cell_type": "code",
   "execution_count": 13,
   "id": "d4e77345-96e2-4d58-b0a5-674e630a2887",
   "metadata": {},
   "outputs": [
    {
     "name": "stdout",
     "output_type": "stream",
     "text": [
      "3323\n",
      "776 rows ie  23.35% of the whole dataset is Na\n",
      "109 rows ie  3.28% of BM_BLAST is Na\n",
      "272 rows ie  8.19% of WBC is Na\n",
      "193 rows ie  5.81% of ANC is Na\n",
      "601 rows ie  18.09% of MONOCYTES is Na\n",
      "110 rows ie  3.31% of HB is Na\n",
      "124 rows ie  3.73% of PLT is Na\n"
     ]
    }
   ],
   "source": [
    "rows = df.shape[0]\n",
    "print(rows)\n",
    "print(f\"{df[df.isna().any(axis=1)].shape[0]} rows ie {df[df.isna().any(axis=1)].shape[0]*100/rows: .2f}% of the whole dataset is Na\")\n",
    "print(f\"{df[df['BM_BLAST'].isna()].shape[0]} rows ie {df[df['BM_BLAST'].isna()].shape[0]*100/rows : .2f}% of BM_BLAST is Na\")\n",
    "print(f\"{df[df['WBC'].isna()].shape[0]} rows ie {df[df['WBC'].isna()].shape[0]*100/rows : .2f}% of WBC is Na\")\n",
    "print(f\"{df[df['ANC'].isna()].shape[0]} rows ie {df[df['ANC'].isna()].shape[0]*100/rows: .2f}% of ANC is Na\")\n",
    "print(f\"{df[df['MONOCYTES'].isna()].shape[0]} rows ie {df[df['MONOCYTES'].isna()].shape[0]*100/rows: .2f}% of MONOCYTES is Na\")\n",
    "print(f\"{df[df['HB'].isna()].shape[0]} rows ie {df[df['HB'].isna()].shape[0]*100/rows: .2f}% of HB is Na\")\n",
    "print(f\"{df[df['PLT'].isna()].shape[0]} rows ie {df[df['PLT'].isna()].shape[0]*100/rows: .2f}% of PLT is Na\")\n",
    "\n"
   ]
  },
  {
   "cell_type": "code",
   "execution_count": 14,
   "id": "c8e5beb9-06f3-41a1-897a-05055f48eb6b",
   "metadata": {},
   "outputs": [
    {
     "data": {
      "text/plain": [
       "0       0.70\n",
       "1       0.10\n",
       "2       0.10\n",
       "3       0.10\n",
       "4       0.90\n",
       "        ... \n",
       "3318    0.53\n",
       "3319    0.22\n",
       "3320    0.29\n",
       "3321    0.11\n",
       "3322    0.23\n",
       "Name: MONOCYTES, Length: 3323, dtype: float64"
      ]
     },
     "execution_count": 14,
     "metadata": {},
     "output_type": "execute_result"
    }
   ],
   "source": [
    "df[df['MONOCYTES'].isna()]\n",
    "df['MONOCYTES']"
   ]
  },
  {
   "cell_type": "code",
   "execution_count": 15,
   "id": "b54e2d3f-3901-4a3c-b602-784098006c94",
   "metadata": {},
   "outputs": [
    {
     "data": {
      "text/html": [
       "<div>\n",
       "<style scoped>\n",
       "    .dataframe tbody tr th:only-of-type {\n",
       "        vertical-align: middle;\n",
       "    }\n",
       "\n",
       "    .dataframe tbody tr th {\n",
       "        vertical-align: top;\n",
       "    }\n",
       "\n",
       "    .dataframe thead th {\n",
       "        text-align: right;\n",
       "    }\n",
       "</style>\n",
       "<table border=\"1\" class=\"dataframe\">\n",
       "  <thead>\n",
       "    <tr style=\"text-align: right;\">\n",
       "      <th></th>\n",
       "      <th>BM_BLAST</th>\n",
       "      <th>WBC</th>\n",
       "      <th>ANC</th>\n",
       "      <th>MONOCYTES</th>\n",
       "      <th>HB</th>\n",
       "      <th>PLT</th>\n",
       "    </tr>\n",
       "  </thead>\n",
       "  <tbody>\n",
       "    <tr>\n",
       "      <th>count</th>\n",
       "      <td>3214.000000</td>\n",
       "      <td>3051.000000</td>\n",
       "      <td>3130.000000</td>\n",
       "      <td>2722.000000</td>\n",
       "      <td>3213.000000</td>\n",
       "      <td>3199.000000</td>\n",
       "    </tr>\n",
       "    <tr>\n",
       "      <th>mean</th>\n",
       "      <td>5.982545</td>\n",
       "      <td>6.535164</td>\n",
       "      <td>3.264735</td>\n",
       "      <td>0.955868</td>\n",
       "      <td>9.893549</td>\n",
       "      <td>167.048900</td>\n",
       "    </tr>\n",
       "    <tr>\n",
       "      <th>std</th>\n",
       "      <td>7.615439</td>\n",
       "      <td>10.247219</td>\n",
       "      <td>5.237043</td>\n",
       "      <td>2.666478</td>\n",
       "      <td>2.041158</td>\n",
       "      <td>149.477031</td>\n",
       "    </tr>\n",
       "    <tr>\n",
       "      <th>min</th>\n",
       "      <td>0.000000</td>\n",
       "      <td>0.200000</td>\n",
       "      <td>0.000000</td>\n",
       "      <td>0.000000</td>\n",
       "      <td>4.000000</td>\n",
       "      <td>2.000000</td>\n",
       "    </tr>\n",
       "    <tr>\n",
       "      <th>25%</th>\n",
       "      <td>1.000000</td>\n",
       "      <td>2.700000</td>\n",
       "      <td>1.000000</td>\n",
       "      <td>0.150000</td>\n",
       "      <td>8.500000</td>\n",
       "      <td>65.500000</td>\n",
       "    </tr>\n",
       "    <tr>\n",
       "      <th>50%</th>\n",
       "      <td>3.000000</td>\n",
       "      <td>4.100000</td>\n",
       "      <td>2.000000</td>\n",
       "      <td>0.370000</td>\n",
       "      <td>9.700000</td>\n",
       "      <td>123.000000</td>\n",
       "    </tr>\n",
       "    <tr>\n",
       "      <th>75%</th>\n",
       "      <td>8.000000</td>\n",
       "      <td>6.655000</td>\n",
       "      <td>3.690000</td>\n",
       "      <td>0.783000</td>\n",
       "      <td>11.200000</td>\n",
       "      <td>229.500000</td>\n",
       "    </tr>\n",
       "    <tr>\n",
       "      <th>max</th>\n",
       "      <td>91.000000</td>\n",
       "      <td>154.400000</td>\n",
       "      <td>109.620000</td>\n",
       "      <td>44.200000</td>\n",
       "      <td>16.600000</td>\n",
       "      <td>1451.000000</td>\n",
       "    </tr>\n",
       "  </tbody>\n",
       "</table>\n",
       "</div>"
      ],
      "text/plain": [
       "          BM_BLAST          WBC          ANC    MONOCYTES           HB  \\\n",
       "count  3214.000000  3051.000000  3130.000000  2722.000000  3213.000000   \n",
       "mean      5.982545     6.535164     3.264735     0.955868     9.893549   \n",
       "std       7.615439    10.247219     5.237043     2.666478     2.041158   \n",
       "min       0.000000     0.200000     0.000000     0.000000     4.000000   \n",
       "25%       1.000000     2.700000     1.000000     0.150000     8.500000   \n",
       "50%       3.000000     4.100000     2.000000     0.370000     9.700000   \n",
       "75%       8.000000     6.655000     3.690000     0.783000    11.200000   \n",
       "max      91.000000   154.400000   109.620000    44.200000    16.600000   \n",
       "\n",
       "               PLT  \n",
       "count  3199.000000  \n",
       "mean    167.048900  \n",
       "std     149.477031  \n",
       "min       2.000000  \n",
       "25%      65.500000  \n",
       "50%     123.000000  \n",
       "75%     229.500000  \n",
       "max    1451.000000  "
      ]
     },
     "execution_count": 15,
     "metadata": {},
     "output_type": "execute_result"
    }
   ],
   "source": [
    "df.describe()"
   ]
  },
  {
   "cell_type": "code",
   "execution_count": 16,
   "id": "fcd41ac7-8f0b-463f-9357-49df9f48bad1",
   "metadata": {},
   "outputs": [
    {
     "data": {
      "text/plain": [
       "array([[<Axes: title={'center': 'BM_BLAST'}>,\n",
       "        <Axes: title={'center': 'WBC'}>],\n",
       "       [<Axes: title={'center': 'ANC'}>,\n",
       "        <Axes: title={'center': 'MONOCYTES'}>],\n",
       "       [<Axes: title={'center': 'HB'}>, <Axes: title={'center': 'PLT'}>]],\n",
       "      dtype=object)"
      ]
     },
     "execution_count": 16,
     "metadata": {},
     "output_type": "execute_result"
    },
    {
     "data": {
      "image/png": "[encoded data removed]",
      "text/plain": [
       "<Figure size 2000x1500 with 6 Axes>"
      ]
     },
     "metadata": {},
     "output_type": "display_data"
    }
   ],
   "source": [
    "df.hist(bins=50, figsize=(20,15))"
   ]
  },
  {
   "cell_type": "code",
   "execution_count": 17,
   "id": "055a1a50-6072-44d7-bc8e-6aa6e8152c2c",
   "metadata": {},
   "outputs": [
    {
     "name": "stdout",
     "output_type": "stream",
     "text": [
      "-0.050296212361568386\n"
     ]
    }
   ],
   "source": [
    "correlation = df[\"HB\"].corr(df[\"BM_BLAST\"],method=\"spearman\")\n",
    "print(f\"{correlation}\")"
   ]
  },
  {
   "cell_type": "code",
   "execution_count": 18,
   "id": "5bfaabc6-4132-4d7b-8a4e-c6e23878dcc7",
   "metadata": {},
   "outputs": [
    {
     "data": {
      "text/plain": [
       "pandas.core.frame.DataFrame"
      ]
     },
     "execution_count": 18,
     "metadata": {},
     "output_type": "execute_result"
    }
   ],
   "source": [
    "correlation = df[[\"BM_BLAST\",\"WBC\",\"ANC\",\"MONOCYTES\",\"HB\",\"PLT\"]].corr()\n",
    "type(correlation)"
   ]
  },
  {
   "cell_type": "code",
   "execution_count": 19,
   "id": "0bb73cf7-bc0c-4ffb-8325-bfaae49e78d4",
   "metadata": {},
   "outputs": [
    {
     "data": {
      "text/html": [
       "<div>\n",
       "<style scoped>\n",
       "    .dataframe tbody tr th:only-of-type {\n",
       "        vertical-align: middle;\n",
       "    }\n",
       "\n",
       "    .dataframe tbody tr th {\n",
       "        vertical-align: top;\n",
       "    }\n",
       "\n",
       "    .dataframe thead th {\n",
       "        text-align: right;\n",
       "    }\n",
       "</style>\n",
       "<table border=\"1\" class=\"dataframe\">\n",
       "  <thead>\n",
       "    <tr style=\"text-align: right;\">\n",
       "      <th></th>\n",
       "      <th>BM_BLAST</th>\n",
       "      <th>WBC</th>\n",
       "      <th>ANC</th>\n",
       "      <th>MONOCYTES</th>\n",
       "      <th>HB</th>\n",
       "      <th>PLT</th>\n",
       "    </tr>\n",
       "  </thead>\n",
       "  <tbody>\n",
       "    <tr>\n",
       "      <th>BM_BLAST</th>\n",
       "      <td>1.000000</td>\n",
       "      <td>0.100346</td>\n",
       "      <td>-0.008412</td>\n",
       "      <td>0.140248</td>\n",
       "      <td>-0.054530</td>\n",
       "      <td>-0.218223</td>\n",
       "    </tr>\n",
       "    <tr>\n",
       "      <th>WBC</th>\n",
       "      <td>0.100346</td>\n",
       "      <td>1.000000</td>\n",
       "      <td>0.847096</td>\n",
       "      <td>0.748100</td>\n",
       "      <td>0.013184</td>\n",
       "      <td>0.020631</td>\n",
       "    </tr>\n",
       "    <tr>\n",
       "      <th>ANC</th>\n",
       "      <td>-0.008412</td>\n",
       "      <td>0.847096</td>\n",
       "      <td>1.000000</td>\n",
       "      <td>0.592817</td>\n",
       "      <td>0.012768</td>\n",
       "      <td>0.074716</td>\n",
       "    </tr>\n",
       "    <tr>\n",
       "      <th>MONOCYTES</th>\n",
       "      <td>0.140248</td>\n",
       "      <td>0.748100</td>\n",
       "      <td>0.592817</td>\n",
       "      <td>1.000000</td>\n",
       "      <td>0.041912</td>\n",
       "      <td>-0.019550</td>\n",
       "    </tr>\n",
       "    <tr>\n",
       "      <th>HB</th>\n",
       "      <td>-0.054530</td>\n",
       "      <td>0.013184</td>\n",
       "      <td>0.012768</td>\n",
       "      <td>0.041912</td>\n",
       "      <td>1.000000</td>\n",
       "      <td>-0.059378</td>\n",
       "    </tr>\n",
       "    <tr>\n",
       "      <th>PLT</th>\n",
       "      <td>-0.218223</td>\n",
       "      <td>0.020631</td>\n",
       "      <td>0.074716</td>\n",
       "      <td>-0.019550</td>\n",
       "      <td>-0.059378</td>\n",
       "      <td>1.000000</td>\n",
       "    </tr>\n",
       "  </tbody>\n",
       "</table>\n",
       "</div>"
      ],
      "text/plain": [
       "           BM_BLAST       WBC       ANC  MONOCYTES        HB       PLT\n",
       "BM_BLAST   1.000000  0.100346 -0.008412   0.140248 -0.054530 -0.218223\n",
       "WBC        0.100346  1.000000  0.847096   0.748100  0.013184  0.020631\n",
       "ANC       -0.008412  0.847096  1.000000   0.592817  0.012768  0.074716\n",
       "MONOCYTES  0.140248  0.748100  0.592817   1.000000  0.041912 -0.019550\n",
       "HB        -0.054530  0.013184  0.012768   0.041912  1.000000 -0.059378\n",
       "PLT       -0.218223  0.020631  0.074716  -0.019550 -0.059378  1.000000"
      ]
     },
     "execution_count": 19,
     "metadata": {},
     "output_type": "execute_result"
    }
   ],
   "source": [
    "correlation"
   ]
  },
  {
   "cell_type": "code",
   "execution_count": 20,
   "id": "e70fccfa-6291-4d3e-a351-593376737682",
   "metadata": {},
   "outputs": [],
   "source": [
    "# no significant correlation therefore impute with median (?)\n",
    "target_df = pd.read_csv(\"./target_train.csv\")"
   ]
  },
  {
   "cell_type": "code",
   "execution_count": 42,
   "id": "4c0b7634-880e-42ee-b418-2bb51937d4b3",
   "metadata": {},
   "outputs": [
    {
     "ename": "TypeError",
     "evalue": "'tuple' object is not callable",
     "output_type": "error",
     "traceback": [
      "\u001b[1;31m---------------------------------------------------------------------------\u001b[0m",
      "\u001b[1;31mTypeError\u001b[0m                                 Traceback (most recent call last)",
      "Cell \u001b[1;32mIn[42], line 1\u001b[0m\n\u001b[1;32m----> 1\u001b[0m \u001b[43mdf\u001b[49m\u001b[43m[\u001b[49m\u001b[43mdf\u001b[49m\u001b[43m[\u001b[49m\u001b[38;5;124;43m\"\u001b[39;49m\u001b[38;5;124;43mCYTOGENETICS\u001b[39;49m\u001b[38;5;124;43m\"\u001b[39;49m\u001b[43m]\u001b[49m\u001b[38;5;241;43m.\u001b[39;49m\u001b[43misna\u001b[49m\u001b[43m(\u001b[49m\u001b[43m)\u001b[49m\u001b[43m]\u001b[49m\u001b[38;5;241;43m.\u001b[39;49m\u001b[43mshape\u001b[49m\u001b[43m(\u001b[49m\u001b[43m)\u001b[49m\n",
      "\u001b[1;31mTypeError\u001b[0m: 'tuple' object is not callable"
     ]
    }
   ],
   "source": [
    "df[df[\"CYTOGENETICS\"].isna()].shape()"
   ]
  },
  {
   "cell_type": "code",
   "execution_count": 21,
   "id": "12f6f1d6-2c95-43d3-838e-bb3986652234",
   "metadata": {},
   "outputs": [
    {
     "name": "stdout",
     "output_type": "stream",
     "text": [
      "OS_STATUS    float64\n",
      "OS_YEARS     float64\n",
      "dtype: object\n"
     ]
    }
   ],
   "source": [
    "# Drop rows where 'OS_YEARS' is NaN if conversion caused any issues\n",
    "target_df.dropna(subset=['OS_YEARS', 'OS_STATUS'], inplace=True)\n",
    "\n",
    "# Check the data types to ensure 'OS_STATUS' is boolean and 'OS_YEARS' is numeric\n",
    "print(target_df[['OS_STATUS', 'OS_YEARS']].dtypes)\n",
    "\n",
    "# Contarget_dfvert 'OS_YEARS' to numeric if it isn’t already\n",
    "target_df['OS_YEARS'] = pd.to_numeric(target_df['OS_YEARS'], errors='coerce')\n",
    "\n",
    "# Ensure 'OS_STATUS' is boolean\n",
    "target_df['OS_STATUS'] = target_df['OS_STATUS'].astype(bool)\n",
    "\n",
    "# Select features\n",
    "features = [\"BM_BLAST\",\"WBC\",\"ANC\",\"MONOCYTES\",\"HB\",\"PLT\"]\n",
    "target = ['OS_YEARS', 'OS_STATUS']\n",
    "\n",
    "# Create the survival data format\n",
    "X = df.loc[df['ID'].isin(target_df['ID']), features]\n",
    "y = Surv.from_dataframe('OS_STATUS', 'OS_YEARS', target_df)"
   ]
  },
  {
   "cell_type": "code",
   "execution_count": 22,
   "id": "735c1ec8-20aa-4559-a2e3-1b37ebc8bb57",
   "metadata": {},
   "outputs": [],
   "source": [
    "X_train, X_test, y_train, y_test = train_test_split(X, y, test_size=0.3, random_state=42)"
   ]
  },
  {
   "cell_type": "code",
   "execution_count": 23,
   "id": "9a231541-7a06-4cd8-8d76-441589145053",
   "metadata": {},
   "outputs": [],
   "source": [
    "imputer = SimpleImputer(strategy=\"median\")\n",
    "X_train[['BM_BLAST', 'HB', 'PLT','ANC','MONOCYTES','HB']] = imputer.fit_transform(X_train[['BM_BLAST', 'HB', 'PLT','ANC','MONOCYTES','HB']])\n",
    "X_test[['BM_BLAST', 'HB', 'PLT','ANC','MONOCYTES','HB']] = imputer.transform(X_test[['BM_BLAST', 'HB', 'PLT','ANC','MONOCYTES','HB']])"
   ]
  },
  {
   "cell_type": "code",
   "execution_count": 43,
   "id": "ebe590bd-5cab-4eb5-a441-bdd71d42ba9a",
   "metadata": {},
   "outputs": [
    {
     "data": {
      "text/plain": [
       "387"
      ]
     },
     "execution_count": 43,
     "metadata": {},
     "output_type": "execute_result"
    }
   ],
   "source": [
    "#def classify_cytogenetics(cytogenetics):\n",
    "df[df['CYTOGENETICS'].isna()].shape[0]"
   ]
  },
  {
   "cell_type": "code",
   "execution_count": 51,
   "id": "dcfe2aea-4b19-4854-8f36-0f42ab029ad8",
   "metadata": {},
   "outputs": [],
   "source": [
    "\n",
    "def classify_cytogenetics(cytogenetics):\n",
    "    if pd.isna(cytogenetics):\n",
    "        return 'unknown'\n",
    "    \n",
    "    if cytogenetics == 'complex':\n",
    "        return 'high'\n",
    "\n",
    "    slash = cytogenetics.count('/')\n",
    "    commas = cytogenetics.count(',')\n",
    "    commas = commas-slash-1\n",
    "    if(commas>=0 and commas<=2):\n",
    "        return 'low'\n",
    "    if(commas>2 and commas<=4):\n",
    "        return 'intermediate'\n",
    "    if(commas>4):\n",
    "        return 'high'"
   ]
  },
  {
   "cell_type": "code",
   "execution_count": 52,
   "id": "fc7e2adc-4b5a-4799-b3ea-67d2fa49abd5",
   "metadata": {},
   "outputs": [],
   "source": [
    "df['CYTOGENETICS_RISK'] = df['CYTOGENETICS'].apply(classify_cytogenetics)"
   ]
  },
  {
   "cell_type": "code",
   "execution_count": 57,
   "id": "cdb76c0b-3f56-45a9-b09e-5eb2443d92b5",
   "metadata": {},
   "outputs": [
    {
     "data": {
      "text/plain": [
       "CYTOGENETICS_RISK\n",
       "low             2527\n",
       "unknown          387\n",
       "high             245\n",
       "intermediate     133\n",
       "Name: count, dtype: int64"
      ]
     },
     "execution_count": 57,
     "metadata": {},
     "output_type": "execute_result"
    }
   ],
   "source": [
    "df.head()\n",
    "df['CYTOGENETICS_RISK'].value_counts()"
   ]
  },
  {
   "cell_type": "code",
   "execution_count": 24,
   "id": "d9e3f241-e475-4a46-84cc-8b82175a51ac",
   "metadata": {},
   "outputs": [
    {
     "name": "stdout",
     "output_type": "stream",
     "text": [
      "LightGBM Survival Model Concordance Index IPCW on train: 0.70\n",
      "LightGBM Survival Model Concordance Index IPCW on test: 0.66\n"
     ]
    }
   ],
   "source": [
    "# Import necessary libraries\n",
    "import lightgbm as lgb\n",
    "from sksurv.metrics import concordance_index_censored\n",
    "from sksurv.util import Surv\n",
    "\n",
    "# Define LightGBM parameters\n",
    "lgbm_params = {\n",
    "    'max_depth': 3,\n",
    "    'learning_rate': 0.05,\n",
    "    'verbose': -1\n",
    "}\n",
    "\n",
    "# Prepare the data for LightGBM\n",
    "# Scale the target (OS_YEARS) to reduce skew, apply weights based on event status\n",
    "X_train_lgb = X_train  # Features for training\n",
    "y_train_transformed = y_train['OS_YEARS']\n",
    "\n",
    "# Create LightGBM dataset\n",
    "train_dataset = lgb.Dataset(X_train_lgb, label=y_train_transformed)\n",
    "\n",
    "# Train the LightGBM model\n",
    "model = lgb.train(params=lgbm_params, train_set=train_dataset)\n",
    "\n",
    "# Make predictions on the training and testing sets\n",
    "pred_train = -model.predict(X_train)\n",
    "pred_test = -model.predict(X_test)\n",
    "\n",
    "# Evaluate the model using Concordance Index IPCW\n",
    "train_ci_ipcw = concordance_index_ipcw(y_train, y_train, pred_train, tau=7)[0]\n",
    "test_ci_ipcw = concordance_index_ipcw(y_train, y_test, pred_test, tau=7)[0]\n",
    "print(f\"LightGBM Survival Model Concordance Index IPCW on train: {train_ci_ipcw:.2f}\")\n",
    "print(f\"LightGBM Survival Model Concordance Index IPCW on test: {test_ci_ipcw:.2f}\")"
   ]
  },
  {
   "cell_type": "code",
   "execution_count": 25,
   "id": "565b7903-b4e5-4cdc-ad85-7744e9046c2c",
   "metadata": {},
   "outputs": [
    {
     "data": {
      "text/plain": [
       "array([(False, 1.91780822), ( True, 1.28219178), ( True, 1.49041096), ...,\n",
       "       (False, 8.63561644), (False, 0.47671233), (False, 1.29041096)],\n",
       "      shape=(2221,), dtype=[('OS_STATUS', '?'), ('OS_YEARS', '<f8')])"
      ]
     },
     "execution_count": 25,
     "metadata": {},
     "output_type": "execute_result"
    }
   ],
   "source": [
    "y_train"
   ]
  },
  {
   "cell_type": "code",
   "execution_count": 26,
   "id": "895d8fda-0498-47d3-98aa-be5f8a283188",
   "metadata": {},
   "outputs": [
    {
     "data": {
      "text/html": [
       "<div>\n",
       "<style scoped>\n",
       "    .dataframe tbody tr th:only-of-type {\n",
       "        vertical-align: middle;\n",
       "    }\n",
       "\n",
       "    .dataframe tbody tr th {\n",
       "        vertical-align: top;\n",
       "    }\n",
       "\n",
       "    .dataframe thead th {\n",
       "        text-align: right;\n",
       "    }\n",
       "</style>\n",
       "<table border=\"1\" class=\"dataframe\">\n",
       "  <thead>\n",
       "    <tr style=\"text-align: right;\">\n",
       "      <th></th>\n",
       "      <th>ID</th>\n",
       "      <th>CENTER</th>\n",
       "      <th>BM_BLAST</th>\n",
       "      <th>WBC</th>\n",
       "      <th>ANC</th>\n",
       "      <th>MONOCYTES</th>\n",
       "      <th>HB</th>\n",
       "      <th>PLT</th>\n",
       "      <th>CYTOGENETICS</th>\n",
       "    </tr>\n",
       "  </thead>\n",
       "  <tbody>\n",
       "    <tr>\n",
       "      <th>0</th>\n",
       "      <td>P132697</td>\n",
       "      <td>MSK</td>\n",
       "      <td>14.0</td>\n",
       "      <td>2.8</td>\n",
       "      <td>0.2</td>\n",
       "      <td>0.7</td>\n",
       "      <td>7.6</td>\n",
       "      <td>119.0</td>\n",
       "      <td>46,xy,del(20)(q12)[2]/46,xy[18]</td>\n",
       "    </tr>\n",
       "    <tr>\n",
       "      <th>1</th>\n",
       "      <td>P132698</td>\n",
       "      <td>MSK</td>\n",
       "      <td>1.0</td>\n",
       "      <td>7.4</td>\n",
       "      <td>2.4</td>\n",
       "      <td>0.1</td>\n",
       "      <td>11.6</td>\n",
       "      <td>42.0</td>\n",
       "      <td>46,xx</td>\n",
       "    </tr>\n",
       "    <tr>\n",
       "      <th>2</th>\n",
       "      <td>P116889</td>\n",
       "      <td>MSK</td>\n",
       "      <td>15.0</td>\n",
       "      <td>3.7</td>\n",
       "      <td>2.1</td>\n",
       "      <td>0.1</td>\n",
       "      <td>14.2</td>\n",
       "      <td>81.0</td>\n",
       "      <td>46,xy,t(3;3)(q25;q27)[8]/46,xy[12]</td>\n",
       "    </tr>\n",
       "    <tr>\n",
       "      <th>3</th>\n",
       "      <td>P132699</td>\n",
       "      <td>MSK</td>\n",
       "      <td>1.0</td>\n",
       "      <td>3.9</td>\n",
       "      <td>1.9</td>\n",
       "      <td>0.1</td>\n",
       "      <td>8.9</td>\n",
       "      <td>77.0</td>\n",
       "      <td>46,xy,del(3)(q26q27)[15]/46,xy[5]</td>\n",
       "    </tr>\n",
       "    <tr>\n",
       "      <th>4</th>\n",
       "      <td>P132700</td>\n",
       "      <td>MSK</td>\n",
       "      <td>6.0</td>\n",
       "      <td>128.0</td>\n",
       "      <td>9.7</td>\n",
       "      <td>0.9</td>\n",
       "      <td>11.1</td>\n",
       "      <td>195.0</td>\n",
       "      <td>46,xx,t(3;9)(p13;q22)[10]/46,xx[10]</td>\n",
       "    </tr>\n",
       "  </tbody>\n",
       "</table>\n",
       "</div>"
      ],
      "text/plain": [
       "        ID CENTER  BM_BLAST    WBC  ANC  MONOCYTES    HB    PLT  \\\n",
       "0  P132697    MSK      14.0    2.8  0.2        0.7   7.6  119.0   \n",
       "1  P132698    MSK       1.0    7.4  2.4        0.1  11.6   42.0   \n",
       "2  P116889    MSK      15.0    3.7  2.1        0.1  14.2   81.0   \n",
       "3  P132699    MSK       1.0    3.9  1.9        0.1   8.9   77.0   \n",
       "4  P132700    MSK       6.0  128.0  9.7        0.9  11.1  195.0   \n",
       "\n",
       "                          CYTOGENETICS  \n",
       "0      46,xy,del(20)(q12)[2]/46,xy[18]  \n",
       "1                                46,xx  \n",
       "2   46,xy,t(3;3)(q25;q27)[8]/46,xy[12]  \n",
       "3    46,xy,del(3)(q26q27)[15]/46,xy[5]  \n",
       "4  46,xx,t(3;9)(p13;q22)[10]/46,xx[10]  "
      ]
     },
     "execution_count": 26,
     "metadata": {},
     "output_type": "execute_result"
    }
   ],
   "source": [
    "df.head()"
   ]
  },
  {
   "cell_type": "code",
   "execution_count": 36,
   "id": "a06e54e4-d462-4954-a4b7-daf63d94e1a9",
   "metadata": {},
   "outputs": [
    {
     "data": {
      "text/html": [
       "<div>\n",
       "<style scoped>\n",
       "    .dataframe tbody tr th:only-of-type {\n",
       "        vertical-align: middle;\n",
       "    }\n",
       "\n",
       "    .dataframe tbody tr th {\n",
       "        vertical-align: top;\n",
       "    }\n",
       "\n",
       "    .dataframe thead th {\n",
       "        text-align: right;\n",
       "    }\n",
       "</style>\n",
       "<table border=\"1\" class=\"dataframe\">\n",
       "  <thead>\n",
       "    <tr style=\"text-align: right;\">\n",
       "      <th></th>\n",
       "      <th>ID</th>\n",
       "      <th>CENTER</th>\n",
       "      <th>BM_BLAST</th>\n",
       "      <th>WBC</th>\n",
       "      <th>ANC</th>\n",
       "      <th>MONOCYTES</th>\n",
       "      <th>HB</th>\n",
       "      <th>PLT</th>\n",
       "      <th>CYTOGENETICS</th>\n",
       "    </tr>\n",
       "  </thead>\n",
       "  <tbody>\n",
       "    <tr>\n",
       "      <th>10</th>\n",
       "      <td>P132707</td>\n",
       "      <td>MSK</td>\n",
       "      <td>4.0</td>\n",
       "      <td>2.80</td>\n",
       "      <td>1.40</td>\n",
       "      <td>0.10</td>\n",
       "      <td>9.600</td>\n",
       "      <td>18.0</td>\n",
       "      <td>complex</td>\n",
       "    </tr>\n",
       "    <tr>\n",
       "      <th>11</th>\n",
       "      <td>P106361</td>\n",
       "      <td>MSK</td>\n",
       "      <td>7.0</td>\n",
       "      <td>1.10</td>\n",
       "      <td>0.50</td>\n",
       "      <td>0.20</td>\n",
       "      <td>7.600</td>\n",
       "      <td>77.0</td>\n",
       "      <td>complex</td>\n",
       "    </tr>\n",
       "    <tr>\n",
       "      <th>22</th>\n",
       "      <td>P132715</td>\n",
       "      <td>MSK</td>\n",
       "      <td>12.0</td>\n",
       "      <td>2.90</td>\n",
       "      <td>1.20</td>\n",
       "      <td>0.30</td>\n",
       "      <td>9.600</td>\n",
       "      <td>166.0</td>\n",
       "      <td>complex</td>\n",
       "    </tr>\n",
       "    <tr>\n",
       "      <th>31</th>\n",
       "      <td>P132724</td>\n",
       "      <td>MSK</td>\n",
       "      <td>6.0</td>\n",
       "      <td>1.30</td>\n",
       "      <td>0.50</td>\n",
       "      <td>0.00</td>\n",
       "      <td>10.400</td>\n",
       "      <td>172.0</td>\n",
       "      <td>complex</td>\n",
       "    </tr>\n",
       "    <tr>\n",
       "      <th>2321</th>\n",
       "      <td>P131882</td>\n",
       "      <td>KI</td>\n",
       "      <td>4.5</td>\n",
       "      <td>5.80</td>\n",
       "      <td>2.50</td>\n",
       "      <td>0.60</td>\n",
       "      <td>9.000</td>\n",
       "      <td>191.0</td>\n",
       "      <td>complex</td>\n",
       "    </tr>\n",
       "    <tr>\n",
       "      <th>2880</th>\n",
       "      <td>P122437</td>\n",
       "      <td>RMCN</td>\n",
       "      <td>3.0</td>\n",
       "      <td>8.00</td>\n",
       "      <td>4.16</td>\n",
       "      <td>NaN</td>\n",
       "      <td>7.507</td>\n",
       "      <td>90.0</td>\n",
       "      <td>complex</td>\n",
       "    </tr>\n",
       "    <tr>\n",
       "      <th>2982</th>\n",
       "      <td>P118490</td>\n",
       "      <td>ROM</td>\n",
       "      <td>10.0</td>\n",
       "      <td>1.85</td>\n",
       "      <td>0.50</td>\n",
       "      <td>0.04</td>\n",
       "      <td>12.600</td>\n",
       "      <td>106.0</td>\n",
       "      <td>complex</td>\n",
       "    </tr>\n",
       "    <tr>\n",
       "      <th>2988</th>\n",
       "      <td>P118489</td>\n",
       "      <td>ROM</td>\n",
       "      <td>11.0</td>\n",
       "      <td>1.85</td>\n",
       "      <td>1.10</td>\n",
       "      <td>0.40</td>\n",
       "      <td>7.700</td>\n",
       "      <td>57.0</td>\n",
       "      <td>complex</td>\n",
       "    </tr>\n",
       "  </tbody>\n",
       "</table>\n",
       "</div>"
      ],
      "text/plain": [
       "           ID CENTER  BM_BLAST   WBC   ANC  MONOCYTES      HB    PLT  \\\n",
       "10    P132707    MSK       4.0  2.80  1.40       0.10   9.600   18.0   \n",
       "11    P106361    MSK       7.0  1.10  0.50       0.20   7.600   77.0   \n",
       "22    P132715    MSK      12.0  2.90  1.20       0.30   9.600  166.0   \n",
       "31    P132724    MSK       6.0  1.30  0.50       0.00  10.400  172.0   \n",
       "2321  P131882     KI       4.5  5.80  2.50       0.60   9.000  191.0   \n",
       "2880  P122437   RMCN       3.0  8.00  4.16        NaN   7.507   90.0   \n",
       "2982  P118490    ROM      10.0  1.85  0.50       0.04  12.600  106.0   \n",
       "2988  P118489    ROM      11.0  1.85  1.10       0.40   7.700   57.0   \n",
       "\n",
       "     CYTOGENETICS  \n",
       "10        complex  \n",
       "11        complex  \n",
       "22        complex  \n",
       "31        complex  \n",
       "2321      complex  \n",
       "2880      complex  \n",
       "2982      complex  \n",
       "2988      complex  "
      ]
     },
     "execution_count": 36,
     "metadata": {},
     "output_type": "execute_result"
    }
   ],
   "source": [
    "df[df['CYTOGENETICS']=='complex']"
   ]
  },
  {
   "cell_type": "code",
   "execution_count": 39,
   "id": "0e32775e-ad50-4529-9321-c85261b6beae",
   "metadata": {},
   "outputs": [
    {
     "data": {
      "text/plain": [
       "1195"
      ]
     },
     "execution_count": 39,
     "metadata": {},
     "output_type": "execute_result"
    }
   ],
   "source": [
    "len(df['CYTOGENETICS'].unique())"
   ]
  },
  {
   "cell_type": "code",
   "execution_count": null,
   "id": "8a63ff36-a5f4-406e-a300-c1d58548c419",
   "metadata": {},
   "outputs": [],
   "source": [
    "df2 = "
   ]
  }
 ],
 "metadata": {
  "kernelspec": {
   "display_name": "Python 3 (ipykernel)",
   "language": "python",
   "name": "python3"
  },
  "language_info": {
   "codemirror_mode": {
    "name": "ipython",
    "version": 3
   },
   "file_extension": ".py",
   "mimetype": "text/x-python",
   "name": "python",
   "nbconvert_exporter": "python",
   "pygments_lexer": "ipython3",
   "version": "3.11.5"
  }
 },
 "nbformat": 4,
 "nbformat_minor": 5
}
